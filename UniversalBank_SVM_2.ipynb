{
 "cells": [
  {
   "cell_type": "code",
   "execution_count": 1,
   "id": "16bc89a0-0d85-4a90-9143-864c9b2a7c26",
   "metadata": {},
   "outputs": [],
   "source": [
    "import pandas as pd\n",
    "from sklearn.model_selection import train_test_split\n",
    "from sklearn.preprocessing import StandardScaler\n",
    "from sklearn.svm import SVC\n",
    "from sklearn.linear_model import LogisticRegression\n",
    "from sklearn.ensemble import RandomForestClassifier\n",
    "from sklearn.metrics import accuracy_score\n",
    "import matplotlib.pyplot as plt"
   ]
  },
  {
   "cell_type": "code",
   "execution_count": 3,
   "id": "f1eeb09b-3cfe-4706-a006-5a584d77d49f",
   "metadata": {},
   "outputs": [],
   "source": [
    "df = pd.read_csv('data/UniversalBank.csv')\n"
   ]
  },
  {
   "cell_type": "code",
   "execution_count": 4,
   "id": "e66f9423-a69f-423c-b5fd-62b79c0ddf84",
   "metadata": {},
   "outputs": [],
   "source": [
    "X = df.drop(columns=['ID', 'Personal Loan'])  # Features\n",
    "y = df['Personal Loan']  # Target (Personal Loan)"
   ]
  },
  {
   "cell_type": "code",
   "execution_count": 5,
   "id": "ddd85818-6e49-4573-acaa-133e63699fe7",
   "metadata": {},
   "outputs": [],
   "source": [
    "X_train, X_test, y_train, y_test = train_test_split(X, y, test_size=0.2, random_state=42)\n"
   ]
  },
  {
   "cell_type": "code",
   "execution_count": 6,
   "id": "9dc3ea37-7200-4007-b7c9-d990ca6d48c9",
   "metadata": {},
   "outputs": [],
   "source": [
    "scaler = StandardScaler()\n",
    "X_train_scaled = scaler.fit_transform(X_train)\n",
    "X_test_scaled = scaler.transform(X_test)\n"
   ]
  },
  {
   "cell_type": "code",
   "execution_count": 7,
   "id": "1ab05b9b-7bfc-4feb-b14a-6f9f009225c4",
   "metadata": {},
   "outputs": [],
   "source": [
    "# Step 5: Train and test the SVM model (using linear kernel for simplicity)\n",
    "svm = SVC(kernel='linear')\n",
    "svm.fit(X_train_scaled, y_train)\n",
    "svm_pred = svm.predict(X_test_scaled)\n",
    "svm_accuracy = accuracy_score(y_test, svm_pred)\n"
   ]
  },
  {
   "cell_type": "code",
   "execution_count": 8,
   "id": "8f578276-7d54-4526-b999-fec7872637e9",
   "metadata": {},
   "outputs": [],
   "source": [
    "log_reg = LogisticRegression(max_iter=1000)\n",
    "log_reg.fit(X_train_scaled, y_train)\n",
    "log_reg_pred = log_reg.predict(X_test_scaled)\n",
    "log_reg_accuracy = accuracy_score(y_test, log_reg_pred)\n"
   ]
  },
  {
   "cell_type": "code",
   "execution_count": 9,
   "id": "24383b1b-4f7e-40f5-895a-ae6c9eb5766f",
   "metadata": {},
   "outputs": [],
   "source": [
    "rf = RandomForestClassifier(n_estimators=100)\n",
    "rf.fit(X_train, y_train)\n",
    "rf_pred = rf.predict(X_test)\n",
    "rf_accuracy = accuracy_score(y_test, rf_pred)"
   ]
  },
  {
   "cell_type": "code",
   "execution_count": 10,
   "id": "4af12db4-d06a-43ff-b661-197992fad727",
   "metadata": {},
   "outputs": [
    {
     "name": "stdout",
     "output_type": "stream",
     "text": [
      "Accuracy of SVM: 95.30%\n",
      "Accuracy of Logistic Regression: 95.50%\n",
      "Accuracy of Random Forest: 99.00%\n"
     ]
    }
   ],
   "source": [
    "print(f'Accuracy of SVM: {svm_accuracy * 100:.2f}%')\n",
    "print(f'Accuracy of Logistic Regression: {log_reg_accuracy * 100:.2f}%')\n",
    "print(f'Accuracy of Random Forest: {rf_accuracy * 100:.2f}%')\n",
    "\n",
    "# Step 9: Plot the comparison of model accuracies\n",
    "models = ['SVM', 'Logistic Regression', 'Random Forest']\n",
    "accuracies = [svm_accuracy, log_reg_accuracy, rf_accuracy]\n"
   ]
  },
  {
   "cell_type": "code",
   "execution_count": 11,
   "id": "6bdd5189-9021-4647-b1f4-29f2932dacd0",
   "metadata": {},
   "outputs": [
    {
     "data": {
      "image/png": "[encoded data removed]",
      "text/plain": [
       "<Figure size 640x480 with 1 Axes>"
      ]
     },
     "metadata": {},
     "output_type": "display_data"
    }
   ],
   "source": [
    "plt.bar(models, accuracies, color=['blue', 'green', 'orange'])\n",
    "plt.ylabel('Accuracy')\n",
    "plt.title('Model Comparison')\n",
    "plt.show()"
   ]
  },
  {
   "cell_type": "code",
   "execution_count": null,
   "id": "3f495698-1c4f-4289-ada8-ba03fb0a72a7",
   "metadata": {},
   "outputs": [],
   "source": []
  }
 ],
 "metadata": {
  "kernelspec": {
   "display_name": "Python 3 (ipykernel)",
   "language": "python",
   "name": "python3"
  },
  "language_info": {
   "codemirror_mode": {
    "name": "ipython",
    "version": 3
   },
   "file_extension": ".py",
   "mimetype": "text/x-python",
   "name": "python",
   "nbconvert_exporter": "python",
   "pygments_lexer": "ipython3",
   "version": "3.11.7"
  }
 },
 "nbformat": 4,
 "nbformat_minor": 5
}
