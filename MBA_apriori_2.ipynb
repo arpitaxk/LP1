{
 "cells": [
  {
   "cell_type": "code",
   "execution_count": null,
   "id": "dddc89f4-d6fd-48ad-af3f-ac43d9b66f95",
   "metadata": {},
   "outputs": [
    {
     "name": "stdout",
     "output_type": "stream",
     "text": [
      "Raw Dataset Preview:\n",
      "       0        1        2               3             4                 5   \\\n",
      "0  shrimp  almonds  avocado  vegetables mix  green grapes  whole weat flour   \n",
      "\n",
      "     6               7             8             9               10  \\\n",
      "0  yams  cottage cheese  energy drink  tomato juice  low fat yogurt   \n",
      "\n",
      "          11     12     13             14      15                 16  \\\n",
      "0  green tea  honey  salad  mineral water  salmon  antioxydant juice   \n",
      "\n",
      "                17       18         19  \n",
      "0  frozen smoothie  spinach  olive oil  \n",
      "\n",
      "Sample Transactions:\n",
      "[['shrimp', 'almonds', 'avocado', 'vegetables mix', 'green grapes', 'whole weat flour', 'yams', 'cottage cheese', 'energy drink', 'tomato juice', 'low fat yogurt', 'green tea', 'honey', 'salad', 'mineral water', 'salmon', 'antioxydant juice', 'frozen smoothie', 'spinach', 'olive oil']]\n",
      "\n",
      "Frequent Itemsets:\n",
      "         support                                           itemsets\n",
      "0            1.0                                          (almonds)\n",
      "1            1.0                                (antioxydant juice)\n",
      "2            1.0                                          (avocado)\n",
      "3            1.0                                   (cottage cheese)\n",
      "4            1.0                                     (energy drink)\n",
      "...          ...                                                ...\n",
      "1048570      1.0  (energy drink, whole weat flour, green tea, sa...\n",
      "1048571      1.0  (energy drink, whole weat flour, green tea, sa...\n",
      "1048572      1.0  (energy drink, whole weat flour, green tea, sa...\n",
      "1048573      1.0  (energy drink, whole weat flour, green tea, sa...\n",
      "1048574      1.0  (energy drink, whole weat flour, green tea, sa...\n",
      "\n",
      "[1048575 rows x 2 columns]\n"
     ]
    }
   ],
   "source": [
    "# Import necessary libraries\n",
    "import pandas as pd\n",
    "from mlxtend.frequent_patterns import apriori, association_rules\n",
    "from mlxtend.preprocessing import TransactionEncoder\n",
    "import matplotlib.pyplot as plt\n",
    "import seaborn as sns\n",
    "\n",
    "# Step 1: Data Pre-processing\n",
    "\n",
    "# Load the dataset (with no header)\n",
    "data = pd.read_csv(\"data/Order2.csv\", header=None)\n",
    "data = data.dropna()\n",
    "# Display the first few rows of the dataset\n",
    "print(\"Raw Dataset Preview:\")\n",
    "print(data.head())\n",
    "\n",
    "# Step 2: Generate the list of transactions\n",
    "# We need to convert the data into a list of transactions\n",
    "transactions = []\n",
    "for i in range(data.shape[0]):  # Iterate through rows\n",
    "    transaction = [str(data.iloc[i, j]) for j in range(data.shape[1]) if pd.notnull(data.iloc[i, j])]\n",
    "    transactions.append(transaction)\n",
    "\n",
    "# Display a sample of the transactions\n",
    "print(\"\\nSample Transactions:\")\n",
    "print(transactions[:5])\n",
    "\n",
    "# Step 3: Apply the Apriori algorithm\n",
    "\n",
    "# Convert the list of transactions into a one-hot encoded DataFrame using TransactionEncoder\n",
    "te = TransactionEncoder()\n",
    "te_data = te.fit(transactions).transform(transactions)\n",
    "df_encoded = pd.DataFrame(te_data, columns=te.columns_)\n",
    "\n",
    "# Apply the Apriori algorithm with a minimum support of 0.01 (1%)\n",
    "frequent_itemsets = apriori(df_encoded, min_support=0.09, use_colnames=True)\n",
    "\n",
    "# Display the frequent itemsets\n",
    "print(\"\\nFrequent Itemsets:\")\n",
    "print(frequent_itemsets)\n",
    "\n",
    "# Step 4: Generate Association Rules\n",
    "\n",
    "# Generate association rules with a minimum lift of 1.0\n",
    "rules = association_rules(frequent_itemsets,num_itemsets=2, metric=\"lift\", min_threshold=1.0)\n",
    "\n",
    "# Display association rules\n",
    "print(\"Association Rules:\")\n",
    "print(rules)\n"
   ]
  },
  {
   "cell_type": "code",
   "execution_count": null,
   "id": "116a77ee-1ae1-4ff5-875d-e151a3aa5972",
   "metadata": {},
   "outputs": [],
   "source": [
    "#apriori order 2\n",
    "#data shaping\n",
    "transactions = []\n",
    "for i in range(data.shape[0]):  # Iterate through rows\n",
    "    transaction = [str(data.iloc[i, j]) for j in range(data.shape[1]) if pd.notnull(data.iloc[i, j])]\n",
    "    transactions.append(transaction)"
   ]
  },
  {
   "cell_type": "code",
   "execution_count": null,
   "id": "350cf6ab-d6bf-4640-9472-09ae53566de9",
   "metadata": {},
   "outputs": [],
   "source": []
  }
 ],
 "metadata": {
  "kernelspec": {
   "display_name": "Python 3 (ipykernel)",
   "language": "python",
   "name": "python3"
  },
  "language_info": {
   "codemirror_mode": {
    "name": "ipython",
    "version": 3
   },
   "file_extension": ".py",
   "mimetype": "text/x-python",
   "name": "python",
   "nbconvert_exporter": "python",
   "pygments_lexer": "ipython3",
   "version": "3.11.7"
  }
 },
 "nbformat": 4,
 "nbformat_minor": 5
}
