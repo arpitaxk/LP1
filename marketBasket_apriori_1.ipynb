{
 "cells": [
  {
   "cell_type": "code",
   "execution_count": 31,
   "id": "f2143411-26f4-4852-9b4a-a8ce7073be7a",
   "metadata": {},
   "outputs": [],
   "source": [
    "# Import necessary libraries\n",
    "import pandas as pd\n",
    "from mlxtend.frequent_patterns import apriori, association_rules\n",
    "from mlxtend.preprocessing import TransactionEncoder\n",
    "import matplotlib.pyplot as plt\n",
    "import seaborn as sns\n"
   ]
  },
  {
   "cell_type": "code",
   "execution_count": 32,
   "id": "39980ba4-bb89-4d70-8964-4ee9cc9edf3e",
   "metadata": {},
   "outputs": [],
   "source": [
    "df = pd.read_csv('data/Order1.csv')"
   ]
  },
  {
   "cell_type": "code",
   "execution_count": 33,
   "id": "9a8ec56c-2395-4d3b-9b6d-9bac31ea7dce",
   "metadata": {},
   "outputs": [],
   "source": [
    "df.dropna(inplace=True)"
   ]
  },
  {
   "cell_type": "code",
   "execution_count": 47,
   "id": "946c7c7f-6344-4f6a-a9f5-e84e3dfa4d6f",
   "metadata": {},
   "outputs": [
    {
     "name": "stdout",
     "output_type": "stream",
     "text": [
      "   Member_number       Date   itemDescription\n",
      "0           1808 2015-07-21    tropical fruit\n",
      "1           2552 2015-01-05        whole milk\n",
      "2           2300 2015-09-19         pip fruit\n",
      "3           1187 2015-12-12  other vegetables\n",
      "4           3037 2015-02-01        whole milk\n",
      "Frequent Itemsets:\n",
      "       support                                           itemsets\n",
      "0     0.015393                            (Instant food products)\n",
      "1     0.078502                                         (UHT-milk)\n",
      "2     0.031042                                    (baking powder)\n",
      "3     0.119548                                             (beef)\n",
      "4     0.079785                                          (berries)\n",
      "...        ...                                                ...\n",
      "3011  0.011031     (whipped/sour cream, soda, whole milk, yogurt)\n",
      "3012  0.010518  (bottled water, rolls/buns, whole milk, yogurt...\n",
      "3013  0.013597  (rolls/buns, whole milk, yogurt, other vegetab...\n",
      "3014  0.010005  (rolls/buns, whole milk, yogurt, shopping bags...\n",
      "3015  0.013597  (soda, rolls/buns, whole milk, yogurt, other v...\n",
      "\n",
      "[3016 rows x 2 columns]\n"
     ]
    },
    {
     "ename": "TypeError",
     "evalue": "association_rules() missing 1 required positional argument: 'num_itemsets'",
     "output_type": "error",
     "traceback": [
      "\u001b[1;31m---------------------------------------------------------------------------\u001b[0m",
      "\u001b[1;31mTypeError\u001b[0m                                 Traceback (most recent call last)",
      "Cell \u001b[1;32mIn[47], line 26\u001b[0m\n\u001b[0;32m     22\u001b[0m \u001b[38;5;66;03m# Step 5: Generate Association Rules\u001b[39;00m\n\u001b[0;32m     23\u001b[0m \u001b[38;5;66;03m# Generate association rules using the frequent itemsets with a minimum lift of 1.0\u001b[39;00m\n\u001b[0;32m     24\u001b[0m \u001b[38;5;66;03m# Ensure frequent_itemsets is not empty and contains valid data\u001b[39;00m\n\u001b[0;32m     25\u001b[0m \u001b[38;5;28;01mif\u001b[39;00m \u001b[38;5;129;01mnot\u001b[39;00m frequent_itemsets\u001b[38;5;241m.\u001b[39mempty:\n\u001b[1;32m---> 26\u001b[0m     rules \u001b[38;5;241m=\u001b[39m association_rules(frequent_itemsets, metric\u001b[38;5;241m=\u001b[39m\u001b[38;5;124m\"\u001b[39m\u001b[38;5;124mlift\u001b[39m\u001b[38;5;124m\"\u001b[39m, min_threshold\u001b[38;5;241m=\u001b[39m\u001b[38;5;241m1.0\u001b[39m)\n\u001b[0;32m     27\u001b[0m     \u001b[38;5;28mprint\u001b[39m(\u001b[38;5;124m\"\u001b[39m\u001b[38;5;124mAssociation Rules:\u001b[39m\u001b[38;5;124m\"\u001b[39m)\n\u001b[0;32m     28\u001b[0m     \u001b[38;5;28mprint\u001b[39m(rules)\n",
      "\u001b[1;31mTypeError\u001b[0m: association_rules() missing 1 required positional argument: 'num_itemsets'"
     ]
    }
   ],
   "source": [
    "print(df.head())\n",
    "\n",
    "# Step 2: Generate the list of transactions\n",
    "# Create a list of transactions by grouping the data by 'Member_number'\n",
    "# Assuming 'itemDescription' is the column representing the items purchased in the order\n",
    "transactions = df.groupby('Member_number')['itemDescription'].apply(list).values.tolist()\n",
    "\n",
    "# Step 3: Convert the list of transactions into a one-hot encoded format\n",
    "# This is necessary for the apriori algorithm to work\n",
    "te = TransactionEncoder()\n",
    "te_ary = te.fit(transactions).transform(transactions)\n",
    "df_transactions = pd.DataFrame(te_ary, columns=te.columns_)\n",
    "\n",
    "# Step 4: Train Apriori on the dataset\n",
    "# Apply the Apriori algorithm to find frequent itemsets with a minimum support of 1%\n",
    "frequent_itemsets = apriori(df_transactions, min_support=0.01, use_colnames=True)\n",
    "\n",
    "# Display the frequent itemsets\n",
    "print(\"Frequent Itemsets:\")\n",
    "print(frequent_itemsets)\n",
    "\n",
    "# Step 5: Generate Association Rules\n",
    "# Generate association rules using the frequent itemsets with a minimum lift of 1.0\n",
    "# Ensure frequent_itemsets is not empty and contains valid data\n",
    "if not frequent_itemsets.empty:\n",
    "    rules = association_rules(frequent_itemsets, metric=\"lift\", min_threshold=1.0)\n",
    "    print(\"Association Rules:\")\n",
    "    print(rules)\n",
    "else:\n",
    "    print(\"No frequent itemsets found with the given support threshold.\")\n",
    "# Step 6: Visualize the results if association rules exist\n",
    "if not frequent_itemsets.empty:\n",
    "    # Plot the support of the association rules\n",
    "    plt.figure(figsize=(10,6))\n",
    "    sns.barplot(x='support', y='antecedents', data=rules)\n",
    "    plt.title('Association Rules Support')\n",
    "    plt.show()\n",
    "\n",
    "    # Optionally, you can also plot other metrics like confidence or lift\n",
    "    # Plot lift\n",
    "    plt.figure(figsize=(10,6))\n",
    "    sns.barplot(x='lift', y='antecedents', data=rules)\n",
    "    plt.title('Association Rules Lift')\n",
    "    plt.show()    "
   ]
  }
 ],
 "metadata": {
  "kernelspec": {
   "display_name": "Python 3 (ipykernel)",
   "language": "python",
   "name": "python3"
  },
  "language_info": {
   "codemirror_mode": {
    "name": "ipython",
    "version": 3
   },
   "file_extension": ".py",
   "mimetype": "text/x-python",
   "name": "python",
   "nbconvert_exporter": "python",
   "pygments_lexer": "ipython3",
   "version": "3.11.7"
  }
 },
 "nbformat": 4,
 "nbformat_minor": 5
}
