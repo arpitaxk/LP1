{
 "cells": [
  {
   "cell_type": "code",
   "execution_count": 2,
   "id": "4ebac9dc-eb83-41e0-bed3-ecc22bb84331",
   "metadata": {},
   "outputs": [],
   "source": [
    "import pandas as pd\n",
    "import numpy as np\n",
    "import matplotlib.pyplot as plt\n",
    "import seaborn as sns\n",
    "from sklearn.model_selection import train_test_split\n",
    "from sklearn.naive_bayes import GaussianNB\n",
    "from sklearn.metrics import accuracy_score, confusion_matrix, classification_report\n",
    "from sklearn.preprocessing import StandardScaler\n"
   ]
  },
  {
   "cell_type": "code",
   "execution_count": 6,
   "id": "d05b39d9-8bef-4308-aa91-26870604f3ac",
   "metadata": {},
   "outputs": [
    {
     "name": "stdout",
     "output_type": "stream",
     "text": [
      "   Pregnancies  Glucose  BloodPressure  SkinThickness  Insulin   BMI  \\\n",
      "0            6      148             72             35        0  33.6   \n",
      "1            1       85             66             29        0  26.6   \n",
      "2            8      183             64              0        0  23.3   \n",
      "3            1       89             66             23       94  28.1   \n",
      "4            0      137             40             35      168  43.1   \n",
      "\n",
      "   DiabetesPedigree  Age  Outcome  \n",
      "0             0.627   50        1  \n",
      "1             0.351   31        0  \n",
      "2             0.672   32        1  \n",
      "3             0.167   21        0  \n",
      "4             2.288   33        1  \n"
     ]
    }
   ],
   "source": [
    "columns = ['Pregnancies', 'Glucose', 'BloodPressure', 'SkinThickness', 'Insulin', \n",
    "           'BMI', 'DiabetesPedigree', 'Age', 'Outcome']\n",
    "\n",
    "# Read the CSV file and skip the first 8 rows, then manually set the columns\n",
    "df = pd.read_csv('data/pima-indians-diabetes.csv', skiprows=9, names=columns)\n",
    "\n",
    "# Check the first few rows of the dataframe to ensure it's loaded correctly\n",
    "print(df.head())"
   ]
  },
  {
   "cell_type": "code",
   "execution_count": 7,
   "id": "f062ae52-2e8b-40d5-98b0-dfd1c98e2f2e",
   "metadata": {},
   "outputs": [
    {
     "name": "stdout",
     "output_type": "stream",
     "text": [
      "   Pregnancies  Glucose  BloodPressure  SkinThickness  Insulin   BMI  \\\n",
      "0            6      148             72             35        0  33.6   \n",
      "1            1       85             66             29        0  26.6   \n",
      "2            8      183             64              0        0  23.3   \n",
      "3            1       89             66             23       94  28.1   \n",
      "4            0      137             40             35      168  43.1   \n",
      "\n",
      "   DiabetesPedigree  Age  Outcome  \n",
      "0             0.627   50        1  \n",
      "1             0.351   31        0  \n",
      "2             0.672   32        1  \n",
      "3             0.167   21        0  \n",
      "4             2.288   33        1  \n"
     ]
    }
   ],
   "source": [
    "df = df[pd.to_numeric(df['Pregnancies'], errors='coerce').notnull()]\n",
    "\n",
    "# Reset index after dropping the rows\n",
    "df.reset_index(drop=True, inplace=True)\n",
    "\n",
    "# Check the cleaned dataframe\n",
    "print(df.head())"
   ]
  },
  {
   "cell_type": "code",
   "execution_count": 8,
   "id": "a39fa012-c643-438b-9c2e-500ca91cc074",
   "metadata": {},
   "outputs": [
    {
     "name": "stdout",
     "output_type": "stream",
     "text": [
      "   Pregnancies  Glucose  BloodPressure  SkinThickness  Insulin   BMI  \\\n",
      "0            6      148             72             35        0  33.6   \n",
      "1            1       85             66             29        0  26.6   \n",
      "2            8      183             64              0        0  23.3   \n",
      "3            1       89             66             23       94  28.1   \n",
      "4            0      137             40             35      168  43.1   \n",
      "\n",
      "   DiabetesPedigree  Age  \n",
      "0             0.627   50  \n",
      "1             0.351   31  \n",
      "2             0.672   32  \n",
      "3             0.167   21  \n",
      "4             2.288   33  \n",
      "0    1\n",
      "1    0\n",
      "2    1\n",
      "3    0\n",
      "4    1\n",
      "Name: Outcome, dtype: int64\n"
     ]
    }
   ],
   "source": [
    "# Features (X) - All columns except the last one (Outcome)\n",
    "X = df.iloc[:, :-1]\n",
    "\n",
    "# Target (y) - The last column (Outcome)\n",
    "y = df.iloc[:, -1]\n",
    "\n",
    "# Check the first few rows of features and target\n",
    "print(X.head())\n",
    "print(y.head())\n"
   ]
  },
  {
   "cell_type": "code",
   "execution_count": 9,
   "id": "f7c45889-0d17-4382-a2d5-3e47143f649e",
   "metadata": {},
   "outputs": [
    {
     "name": "stdout",
     "output_type": "stream",
     "text": [
      "   Pregnancies  Glucose  BloodPressure  SkinThickness  Insulin   BMI  \\\n",
      "0            6      148             72             35        0  33.6   \n",
      "1            1       85             66             29        0  26.6   \n",
      "2            8      183             64              0        0  23.3   \n",
      "3            1       89             66             23       94  28.1   \n",
      "4            0      137             40             35      168  43.1   \n",
      "\n",
      "   DiabetesPedigree  Age  \n",
      "0             0.627   50  \n",
      "1             0.351   31  \n",
      "2             0.672   32  \n",
      "3             0.167   21  \n",
      "4             2.288   33  \n"
     ]
    }
   ],
   "source": [
    "print(X.head())"
   ]
  },
  {
   "cell_type": "code",
   "execution_count": 10,
   "id": "eee02b6f-df17-42b2-922c-3f50f59c2ad9",
   "metadata": {},
   "outputs": [
    {
     "name": "stdout",
     "output_type": "stream",
     "text": [
      "0    1\n",
      "1    0\n",
      "2    1\n",
      "3    0\n",
      "4    1\n",
      "Name: Outcome, dtype: int64\n"
     ]
    }
   ],
   "source": [
    "print(y.head())"
   ]
  },
  {
   "cell_type": "code",
   "execution_count": null,
   "id": "fdeabf65-c29d-4202-96d9-86b3115b1dc1",
   "metadata": {},
   "outputs": [],
   "source": []
  }
 ],
 "metadata": {
  "kernelspec": {
   "display_name": "Python 3 (ipykernel)",
   "language": "python",
   "name": "python3"
  },
  "language_info": {
   "codemirror_mode": {
    "name": "ipython",
    "version": 3
   },
   "file_extension": ".py",
   "mimetype": "text/x-python",
   "name": "python",
   "nbconvert_exporter": "python",
   "pygments_lexer": "ipython3",
   "version": "3.11.7"
  }
 },
 "nbformat": 4,
 "nbformat_minor": 5
}
